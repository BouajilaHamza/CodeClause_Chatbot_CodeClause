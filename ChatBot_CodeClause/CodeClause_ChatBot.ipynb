{
  "cells": [
    {
      "cell_type": "code",
      "execution_count": 1,
      "metadata": {
        "colab": {
          "base_uri": "https://localhost:8080/"
        },
        "id": "8mOYSSK0bS6_",
        "outputId": "a60d68fa-aaf3-41b4-9281-0d650e2c971f"
      },
      "outputs": [
        {
          "output_type": "stream",
          "name": "stdout",
          "text": [
            "Looking in indexes: https://pypi.org/simple, https://us-python.pkg.dev/colab-wheels/public/simple/\n",
            "Collecting tflearn\n",
            "  Downloading tflearn-0.5.0.tar.gz (107 kB)\n",
            "\u001b[K     |████████████████████████████████| 107 kB 29.5 MB/s \n",
            "\u001b[?25hRequirement already satisfied: numpy in /usr/local/lib/python3.7/dist-packages (from tflearn) (1.21.6)\n",
            "Requirement already satisfied: six in /usr/local/lib/python3.7/dist-packages (from tflearn) (1.15.0)\n",
            "Requirement already satisfied: Pillow in /usr/local/lib/python3.7/dist-packages (from tflearn) (7.1.2)\n",
            "Building wheels for collected packages: tflearn\n",
            "  Building wheel for tflearn (setup.py) ... \u001b[?25l\u001b[?25hdone\n",
            "  Created wheel for tflearn: filename=tflearn-0.5.0-py3-none-any.whl size=127299 sha256=798b51901c504d01b7aedb31ad0f1af30eaa4dc4637bbe0616b7e388957656da\n",
            "  Stored in directory: /root/.cache/pip/wheels/5f/14/2e/1d8e28cc47a5a931a2fb82438c9e37ef9246cc6a3774520271\n",
            "Successfully built tflearn\n",
            "Installing collected packages: tflearn\n",
            "Successfully installed tflearn-0.5.0\n"
          ]
        }
      ],
      "source": [
        "!pip install tflearn"
      ]
    },
    {
      "cell_type": "code",
      "execution_count": 2,
      "metadata": {
        "colab": {
          "base_uri": "https://localhost:8080/"
        },
        "id": "hzKBWES6bOhQ",
        "outputId": "6c5b417d-0647-4917-9bf3-3c9ad494ce2c"
      },
      "outputs": [
        {
          "output_type": "stream",
          "name": "stderr",
          "text": [
            "WARNING:tensorflow:From /usr/local/lib/python3.7/dist-packages/tensorflow/python/compat/v2_compat.py:107: disable_resource_variables (from tensorflow.python.ops.variable_scope) is deprecated and will be removed in a future version.\n",
            "Instructions for updating:\n",
            "non-resource variables are not supported in the long term\n"
          ]
        }
      ],
      "source": [
        "import tflearn"
      ]
    },
    {
      "cell_type": "code",
      "execution_count": 3,
      "metadata": {
        "id": "4RNTDbuObs6h"
      },
      "outputs": [],
      "source": [
        "import tensorflow"
      ]
    },
    {
      "cell_type": "code",
      "execution_count": 4,
      "metadata": {
        "id": "2FUg98Lvb-3M"
      },
      "outputs": [],
      "source": [
        "import nltk \n",
        "from nltk.stem.lancaster import LancasterStemmer\n",
        "stemmer = LancasterStemmer()"
      ]
    },
    {
      "cell_type": "code",
      "execution_count": 5,
      "metadata": {
        "colab": {
          "base_uri": "https://localhost:8080/"
        },
        "id": "1Mo3YY1jhCjb",
        "outputId": "c408aaa6-0b17-47b3-c1f9-2707e48a0963"
      },
      "outputs": [
        {
          "output_type": "stream",
          "name": "stderr",
          "text": [
            "[nltk_data] Downloading package punkt to /root/nltk_data...\n",
            "[nltk_data]   Unzipping tokenizers/punkt.zip.\n"
          ]
        },
        {
          "output_type": "execute_result",
          "data": {
            "text/plain": [
              "True"
            ]
          },
          "metadata": {},
          "execution_count": 5
        }
      ],
      "source": [
        "nltk.download('punkt') "
      ]
    },
    {
      "cell_type": "code",
      "execution_count": 6,
      "metadata": {
        "id": "fKFTkXpWcF4v"
      },
      "outputs": [],
      "source": [
        "import numpy as np \n",
        "import random \n",
        "import json "
      ]
    },
    {
      "cell_type": "code",
      "execution_count": 7,
      "metadata": {
        "id": "WiW62FRwdIn8"
      },
      "outputs": [],
      "source": [
        "with open(\"intents.json\") as file :\n",
        "  data = json.load(file)"
      ]
    },
    {
      "cell_type": "code",
      "execution_count": 8,
      "metadata": {
        "colab": {
          "base_uri": "https://localhost:8080/"
        },
        "id": "YdIXB6NMeLqF",
        "outputId": "8e743bc9-96af-4b37-a822-c1a09d61697f"
      },
      "outputs": [
        {
          "output_type": "stream",
          "name": "stdout",
          "text": [
            "[{'tag': 'greeting', 'patterns': ['Hi', 'How are you', 'Is anyone there?', 'Hello', 'Good day', 'Whats up'], 'responses': ['Hello!', 'Good to see you again!', 'Hi there, how can I help?'], 'context_set': ''}, {'tag': 'goodbye', 'patterns': ['cya', 'See you later', 'Goodbye', 'I am Leaving', 'Have a Good day'], 'responses': ['Sad to see you go :(', 'Talk to you later', 'Goodbye!'], 'context_set': ''}, {'tag': 'contact', 'patterns': ['can you send me your concat details ?', 'phone number', 'how can i contact ?', 'how cani call you ?', 'phone?', 'emeil?', 'location ?', 'where are you ?', 'where can i find you ?', 'adress ?', 'mail ?', 'help', 'i need help', 'can you give me support ?'], 'responses': ['You can contact us via Email :\\nLocation:\\n\\t 401, Shreenath Complex\\nVadgaon Pune India-41\\n Email:\\n\\tinfo@codeclause.com\\n official@codeclause.com \\nCall:\\n\\t+91 7030020973', 'you can contact us on : https://codeclause.com/Contact'], 'context_set': ''}, {'tag': 'identity', 'patterns': ['what is your job', 'describe', 'What is codeclause?', 'codeclause', 'what is the objective of the company?', 'who are you ?', 'can you tell me about yourself ?', ''], 'responses': ['You can call me CodeCaluse  i am a trusted Software Development and IT Services, combining deep technical expertise and industry experience to help our clients anticipate what’s next and answer questions before they’re asked. Our offerings and proven solutions create unique competitive advantage for our clients by giving them the power to see beyond and rise above.', \"I'm codeclause!\", 'Hey!! \\nWe are a trusted Software Development and IT Services, combining deep technical expertise and industry experience to help our clients anticipate what’s next and answer questions before they’re asked. Our offerings and proven solutions create unique competitive advantage for our clients by giving them the power to see beyond and rise above'], 'context_set': ''}, {'tag': 'services', 'patterns': ['what can you provide ?', 'your services ', 'what do you reccommend?', 'whatcan i learn ?', 'Can you tell me about your services ?', 'recommendation', 'Trainings', 'what you do ?'], 'responses': ['We provide Data & Analytics \\nAutomation AI/ML \\nInternet of Things(IoT) \\nCloud Solutions'], 'context_set': ''}, {'tag': 'products', 'patterns': ['What are your products?', 'products?', 'is there any product recommendation ?', 'do you have products?', 'can you afford products?', 'is there something else other than services?', 'what about products?'], 'responses': ['We have 4 products : \\nPDFSuite \\nTransfy \\nAttendit \\nDigiCracker ', 'You can find our products here : https://codeclause.com/'], 'context_set': ''}]\n"
          ]
        }
      ],
      "source": [
        "print(data[\"intents\"])"
      ]
    },
    {
      "cell_type": "code",
      "execution_count": 9,
      "metadata": {
        "id": "6u1fw-uJiR7w"
      },
      "outputs": [],
      "source": [
        "docs_x = []\n",
        "docs_y = []"
      ]
    },
    {
      "cell_type": "code",
      "execution_count": 10,
      "metadata": {
        "id": "jZaEYiROeM50"
      },
      "outputs": [],
      "source": [
        "words = []\n",
        "labels = []\n",
        "docs = []\n",
        "\n",
        "for intent in data['intents']:\n",
        "  for pattern in intent[\"patterns\"]:\n",
        "    wrds = nltk.word_tokenize(pattern)\n",
        "    words.extend(wrds) #words.append(wrds)\n",
        "    docs_x.append(wrds)\n",
        "    docs_y.append(intent['tag'])\n",
        "\n",
        "    if intent['tag'] not in labels :\n",
        "      labels.append(intent['tag'])\n"
      ]
    },
    {
      "cell_type": "code",
      "execution_count": 11,
      "metadata": {
        "id": "gn_RToqRgc-f"
      },
      "outputs": [],
      "source": [
        "words = [stemmer.stem(w.lower()) for w in words if w not in \"?\"]\n",
        "words = sorted(list(set(words)))"
      ]
    },
    {
      "cell_type": "code",
      "execution_count": 12,
      "metadata": {
        "id": "c38Nn3JbgfC6"
      },
      "outputs": [],
      "source": [
        "labels = sorted(labels)"
      ]
    },
    {
      "cell_type": "code",
      "execution_count": 13,
      "metadata": {
        "id": "gwkZ0vy8ia9x"
      },
      "outputs": [],
      "source": [
        "training = []\n",
        "output = []\n",
        "\n",
        "out_empty = [0 for _ in range(len(labels))]\n",
        "for x,doc in enumerate(docs_x):\n",
        "  bag= []\n",
        "\n",
        "  wrds = [stemmer.stem(w) for w in doc]\n",
        "\n",
        "  for w in words :\n",
        "    if w in wrds :\n",
        "      bag.append(1)\n",
        "    else :\n",
        "      bag.append(0)\n",
        "  output_row = out_empty[:]\n",
        "  output_row[labels.index(docs_y[x])] =1\n",
        "\n",
        "  training.append(bag)\n",
        "  output.append(output_row)\n"
      ]
    },
    {
      "cell_type": "code",
      "execution_count": 14,
      "metadata": {
        "id": "pWjOEpFvlMrR"
      },
      "outputs": [],
      "source": [
        "training = np.array(training)\n",
        "output = np.array(output)"
      ]
    },
    {
      "cell_type": "code",
      "execution_count": 15,
      "metadata": {
        "colab": {
          "base_uri": "https://localhost:8080/"
        },
        "id": "b-m6_oFVlVdk",
        "outputId": "29fe8c0b-7805-423e-bf9d-f5f967cec966"
      },
      "outputs": [
        {
          "output_type": "stream",
          "name": "stderr",
          "text": [
            "WARNING:tensorflow:From /usr/local/lib/python3.7/dist-packages/tflearn/initializations.py:165: calling TruncatedNormal.__init__ (from tensorflow.python.ops.init_ops) with dtype is deprecated and will be removed in a future version.\n",
            "Instructions for updating:\n",
            "Call initializer instance with the dtype argument instead of passing it to the constructor\n"
          ]
        },
        {
          "output_type": "execute_result",
          "data": {
            "text/plain": [
              "<tf.Tensor 'FullyConnected_2/Softmax:0' shape=(?, 6) dtype=float32>"
            ]
          },
          "metadata": {},
          "execution_count": 15
        }
      ],
      "source": [
        "net =tflearn.input_data(shape =[None ,len(training[0])])\n",
        "net =tflearn.fully_connected(net ,8)\n",
        "net =tflearn.fully_connected(net ,8)\n",
        "net =tflearn.fully_connected(net ,len(output[0]), activation =\"softmax\")\n",
        "tflearn.regression(net)"
      ]
    },
    {
      "cell_type": "code",
      "execution_count": 16,
      "metadata": {
        "id": "S9pIVb2epPRf"
      },
      "outputs": [],
      "source": [
        "model = tflearn.DNN(net)"
      ]
    },
    {
      "cell_type": "code",
      "execution_count": 17,
      "metadata": {
        "colab": {
          "base_uri": "https://localhost:8080/"
        },
        "id": "yk9noP7cpTqp",
        "outputId": "15f28523-1a4f-42cb-f3f8-3c8ebdddd643"
      },
      "outputs": [
        {
          "output_type": "stream",
          "name": "stdout",
          "text": [
            "Training Step: 5999  | total loss: \u001b[1m\u001b[32m0.00640\u001b[0m\u001b[0m | time: 0.010s\n",
            "| Adam | epoch: 1000 | loss: 0.00640 - acc: 1.0000 -- iter: 40/48\n",
            "Training Step: 6000  | total loss: \u001b[1m\u001b[32m0.00618\u001b[0m\u001b[0m | time: 0.011s\n",
            "| Adam | epoch: 1000 | loss: 0.00618 - acc: 1.0000 -- iter: 48/48\n",
            "--\n"
          ]
        }
      ],
      "source": [
        "model.fit(training , output, n_epoch = 1000,batch_size = 8 ,show_metric =True)"
      ]
    },
    {
      "cell_type": "code",
      "execution_count": 18,
      "metadata": {
        "id": "YuSi4zt0lFZv"
      },
      "outputs": [],
      "source": [
        "model.save(\"model.tflearn\")"
      ]
    },
    {
      "cell_type": "code",
      "execution_count": 19,
      "metadata": {
        "id": "qmm6OObzMXum"
      },
      "outputs": [],
      "source": [
        "from nltk import tokenize"
      ]
    },
    {
      "cell_type": "code",
      "execution_count": 23,
      "metadata": {
        "id": "ENbSxi9invIr"
      },
      "outputs": [],
      "source": [
        "def bag_of_words(s ,words) :\n",
        "  bag = [0 for _ in range(len(words))]\n",
        "\n",
        "  s_words = tokenize.word_tokenize(s)\n",
        "\n",
        "  s_words = [stemmer.stem(word.lower()) for word in s_words]\n",
        "\n",
        "\n",
        "  for se in s_words :\n",
        "    for i, w in enumerate(words) :\n",
        "      if w == se :\n",
        "        # print(bag)\n",
        "        bag[i] = 1\n",
        "  # print(np.array(bag).shape)\n",
        "  return np.array(bag).reshape((1,67))"
      ]
    },
    {
      "cell_type": "code",
      "execution_count": 24,
      "metadata": {
        "id": "Xznle4_Mlutr"
      },
      "outputs": [],
      "source": [
        "def chat() :\n",
        "  print('start chat with bot')\n",
        "  while True :\n",
        "    inp = input('You : ')\n",
        "    if inp.lower() == \"quit\" :\n",
        "      break\n",
        "    # print(inp)\n",
        "    results = model.predict(bag_of_words(inp,words))\n",
        "    # print(results)\n",
        "    results_index = np.argmax(results)\n",
        "    tag = labels[results_index]\n",
        "\n",
        "    for tg in data['intents'] :\n",
        "      if tg['tag'] == tag :\n",
        "        responses = tg['responses']\n",
        "    print(random.choice(responses))"
      ]
    },
    {
      "cell_type": "code",
      "execution_count": 25,
      "metadata": {
        "colab": {
          "base_uri": "https://localhost:8080/"
        },
        "id": "oZCOipjgMEtx",
        "outputId": "b1d3a526-eb42-4690-b1db-374a734c57f5"
      },
      "outputs": [
        {
          "name": "stdout",
          "output_type": "stream",
          "text": [
            "start chat with bot\n",
            "You : hello\n",
            "Hello!\n",
            "You : how are you ?\n",
            "Good to see you again!\n",
            "You : who are you ?\n",
            "Hey!! \n",
            "We are a trusted Software Development and IT Services, combining deep technical expertise and industry experience to help our clients anticipate what’s next and answer questions before they’re asked. Our offerings and proven solutions create unique competitive advantage for our clients by giving them the power to see beyond and rise above\n",
            "You : services?\n",
            "We provide Data & Analytics \n",
            "Automation AI/ML \n",
            "Internet of Things(IoT) \n",
            "Cloud Solutions\n",
            "You : do you have something else?\n",
            "We have 4 products : \n",
            "PDFSuite \n",
            "Transfy \n",
            "Attendit \n",
            "DigiCracker \n",
            "You : thanks\n",
            "Hey!! \n",
            "We are a trusted Software Development and IT Services, combining deep technical expertise and industry experience to help our clients anticipate what’s next and answer questions before they’re asked. Our offerings and proven solutions create unique competitive advantage for our clients by giving them the power to see beyond and rise above\n",
            "You : good buy\n",
            "Hi there, how can I help?\n",
            "You : good by\n",
            "Hi there, how can I help?\n",
            "You : see you later\n",
            "Goodbye!\n",
            "You : quit\n"
          ]
        }
      ],
      "source": [
        "chat()"
      ]
    },
    {
      "cell_type": "code",
      "execution_count": null,
      "metadata": {
        "id": "pzo9bqjSMGAh"
      },
      "outputs": [],
      "source": []
    },
    {
      "cell_type": "code",
      "execution_count": null,
      "metadata": {
        "id": "p9adVd0uYjQJ"
      },
      "outputs": [],
      "source": []
    }
  ],
  "metadata": {
    "colab": {
      "provenance": []
    },
    "kernelspec": {
      "display_name": "Python 3",
      "name": "python3"
    },
    "language_info": {
      "name": "python"
    }
  },
  "nbformat": 4,
  "nbformat_minor": 0
}